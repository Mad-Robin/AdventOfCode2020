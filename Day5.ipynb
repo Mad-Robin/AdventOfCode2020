{
 "cells": [
  {
   "cell_type": "code",
   "execution_count": 15,
   "metadata": {},
   "outputs": [],
   "source": [
    "class Seat:\n",
    "    def __init__(self, seat):\n",
    "        row = SeatPrep(seat[0:7])\n",
    "        column = SeatPrep(seat[7:10])\n",
    "        self.row = row\n",
    "        self.column = column\n",
    "        self.seat_id = (row * 8) + column"
   ]
  },
  {
   "cell_type": "code",
   "execution_count": 16,
   "metadata": {},
   "outputs": [],
   "source": [
    "def SeatPrep(string):\n",
    "    binary = string.replace('B', '1').replace('F', '0').replace('R', '1').replace('L', '0')\n",
    "    value = int(binary, 2)\n",
    "    return value"
   ]
  },
  {
   "cell_type": "code",
   "execution_count": 17,
   "metadata": {},
   "outputs": [],
   "source": [
    "seats = []\n",
    "\n",
    "with open(\"day5.txt\", \"r\") as file:\n",
    "    for line in file:\n",
    "        seats.append( Seat(line.rstrip()) )"
   ]
  },
  {
   "cell_type": "code",
   "execution_count": 19,
   "metadata": {},
   "outputs": [
    {
     "name": "stdout",
     "output_type": "stream",
     "text": [
      "928\n"
     ]
    }
   ],
   "source": [
    "print max(seat.seat_id for seat in seats)\n",
    "\n",
    "seats_min = Seat('FFFFFFFLLL').seat_id\n",
    "seats_max = Seat('BBBBBBBRRR').seat_id"
   ]
  },
  {
   "cell_type": "code",
   "execution_count": 24,
   "metadata": {},
   "outputs": [
    {
     "name": "stdout",
     "output_type": "stream",
     "text": [
      "610\n"
     ]
    }
   ],
   "source": [
    "taken_seats = []\n",
    "for seat in seats:\n",
    "    taken_seats.append(seat.seat_id)\n",
    "\n",
    "possible_seats = []\n",
    "for i in range (seats_min, seats_max):\n",
    "    if i not in taken_seats:\n",
    "        possible_seats.append(i)\n",
    "\n",
    "for i in range(0, len(possible_seats)):\n",
    "    try:\n",
    "        if possible_seats[i-1] - possible_seats[i] in [1,-1]:\n",
    "            continue\n",
    "        if possible_seats[i+1] - possible_seats[i] in [1,-1]:\n",
    "            continue\n",
    "        else: \n",
    "            print possible_seats[i]\n",
    "    except:\n",
    "        continue"
   ]
  },
  {
   "cell_type": "code",
   "execution_count": 21,
   "metadata": {},
   "outputs": [
    {
     "name": "stdout",
     "output_type": "stream",
     "text": [
      "70 7 567\n",
      "14 7 119\n",
      "102 4 820\n"
     ]
    }
   ],
   "source": [
    "examples = ['BFFFBBFRRR', 'FFFBBBFRRR', 'BBFFBBFRLL']\n",
    "\n",
    "examp = []\n",
    "for example in examples:\n",
    "    examp.append( Seat(example) )\n",
    "    \n",
    "for obj in examp:\n",
    "    print obj.row, obj.column, obj.seat_id"
   ]
  },
  {
   "cell_type": "code",
   "execution_count": null,
   "metadata": {},
   "outputs": [],
   "source": []
  }
 ],
 "metadata": {
  "kernelspec": {
   "display_name": "Python 2",
   "language": "python",
   "name": "python2"
  },
  "language_info": {
   "codemirror_mode": {
    "name": "ipython",
    "version": 2
   },
   "file_extension": ".py",
   "mimetype": "text/x-python",
   "name": "python",
   "nbconvert_exporter": "python",
   "pygments_lexer": "ipython2",
   "version": "2.7.17"
  }
 },
 "nbformat": 4,
 "nbformat_minor": 2
}
